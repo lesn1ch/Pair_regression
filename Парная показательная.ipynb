{
 "cells": [
  {
   "cell_type": "code",
   "execution_count": 1,
   "id": "c08b986d",
   "metadata": {},
   "outputs": [],
   "source": [
    "student_table = {\n",
    "    '1':12.706,\n",
    "    '2':4.3027,\n",
    "    '3':3.1825,\n",
    "    '4':2.7764,\n",
    "    '5':2.5706,\n",
    "    '6':2.4469,\n",
    "    '7':2.3646,\n",
    "    '8':2.3060,\n",
    "    '9':2.2622,\n",
    "    '10':2.2281,\n",
    "    '11':2.2010,\n",
    "    '12':2.1788,\n",
    "    '13':2.1604,\n",
    "    '14':2.1448,\n",
    "    '15':2.1315\n",
    "}"
   ]
  },
  {
   "cell_type": "code",
   "execution_count": 2,
   "id": "f75045cd",
   "metadata": {},
   "outputs": [],
   "source": [
    "import numpy as np\n",
    "import pandas as pd\n",
    "import matplotlib.pyplot as plt\n",
    "\n",
    "x = np.array([79, 106, 106, 67, 98])\n",
    "y = np.array([154, 157, 195, 139, 158])\n",
    "y_avg = np.average(y)\n",
    "x_avg = np.average(x)\n",
    "Y = np.round(np.log10(y),4)\n",
    "Y_avg = np.round(np.average(Y), 4)\n",
    "B = np.round((np.cov(x,Y)[0, 1]/np.cov(x,x)[0, 1]), 5)\n",
    "b = 10 ** B\n",
    "C = Y_avg - B*x_avg\n",
    "a = np.round((10**C), 3)\n",
    "reg = a * (b ** x)\n",
    "A = np.round((np.abs((y-reg)/y) * 100) , 2)\n",
    "\n",
    "data = {\n",
    "    'x':x,\n",
    "    'y':y,\n",
    "    'xy':x*y,\n",
    "    'x^2':x**2,\n",
    "    '(x-x_avg)^2': np.round(((x-x_avg)**2), 2),\n",
    "    '(y-y_avg)^2':  np.round(((y-y_avg)**2), 2),\n",
    "    'Y': Y,\n",
    "    'x*Y': x * Y,\n",
    "    'regression' : np.round(reg, 2),\n",
    "    'y-reg': np.round((y - reg), 2),\n",
    "    '(y-reg)^2': np.round(((y - reg) ** 2), 2),\n",
    "    'appr': A    \n",
    "}\n",
    "df = pd.DataFrame(data)\n",
    "sum_row = df.sum()\n",
    "mean_row = df.mean()\n",
    "\n",
    "# Создаем DataFrame из новых строк\n",
    "sum_df = pd.DataFrame(sum_row).T\n",
    "mean_df = pd.DataFrame(mean_row).T\n",
    "\n",
    "# Устанавливаем индексы для строк с суммой и средним\n",
    "sum_df.index = ['Sum']\n",
    "mean_df.index = ['Mean']\n",
    "\n",
    "# Присоединяем строки к исходному DataFrame\n",
    "df = pd.concat([df, sum_df, mean_df])\n",
    "df = df.round(2)\n",
    "\n",
    "# Индекс корреляции (ро xy)\n",
    "corr_ind = np.round((np.sqrt(1 - (np.sum(np.round(((y - reg) ** 2), 2))/ \n",
    "                                  np.sum(np.round(((y-y_avg)**2), 2))))), 4)\n",
    "\n",
    "# Детерминация \n",
    "R = np.round(corr_ind**2, 4)\n",
    "\n",
    "# Коэфициент эластичности\n",
    "elast = x_avg * np.log(b)\n",
    "\n",
    "# beta-коэфициент\n",
    "# beta = b * (sigma_x / sigma_y)\n",
    "n = len(x)\n",
    "sigma_x = np.sqrt(df.loc['Sum', '(x-x_avg)^2'] / n)\n",
    "sigma_y = np.sqrt(df.loc['Sum', '(y-y_avg)^2'] / n)\n",
    "beta = b * (sigma_x/sigma_y)\n",
    "\n",
    "# F-критерий Фишера\n",
    "m = 1 # число степеней свободы\n",
    "F = np.round((R / (1-R)) * ((n- m - 1) / m), 2)\n",
    "\n",
    "# Остаточная диспресия\n",
    "S_rem = df.loc['Sum', '(y-reg)^2'] / (n - 2)\n",
    "\n",
    "# Стандартные ошибки\n",
    "ma = np.sqrt(S_rem) * (np.sqrt(df.loc['Sum', 'x^2']) / (sigma_x * n))\n",
    "ta = a / ma\n",
    "\n",
    "mb = np.sqrt(S_rem) / (sigma_x * np.sqrt(n))\n",
    "tb = b / mb\n",
    "\n",
    "mrxy = np.sqrt((1 - R) / (n - 2))\n",
    "trxy = corr_ind / mrxy\n",
    "\n",
    "# Доверительный интервал по a и b\n",
    "# число степеней свободы = n - (кол-во x) - 1 \n",
    "t_tab = student_table[str(n-1-1)]\n",
    "da = ma * t_tab\n",
    "db = mb * t_tab\n",
    "trust_int_a = (a - da, a + da)\n",
    "trust_int_b = (b - db, b + db)\n",
    "\n",
    "# Прогноз\n",
    "forecast = 1.234\n",
    "x_forecast = x_avg * forecast\n",
    "reg_forecast = a * (b ** x_forecast)\n",
    "mreg_forecast = np.sqrt(S_rem * (1 + (1/n) + (((x_forecast - x_avg)**2)/df.loc['Sum', '(x-x_avg)^2'])))\n",
    "dreg_forecast = mreg_forecast * t_tab\n",
    "trust_int_reg_forecast = (reg_forecast - dreg_forecast, reg_forecast + dreg_forecast)"
   ]
  },
  {
   "cell_type": "code",
   "execution_count": 3,
   "id": "41a7988d",
   "metadata": {
    "scrolled": true
   },
   "outputs": [
    {
     "data": {
      "text/html": [
       "<div>\n",
       "<style scoped>\n",
       "    .dataframe tbody tr th:only-of-type {\n",
       "        vertical-align: middle;\n",
       "    }\n",
       "\n",
       "    .dataframe tbody tr th {\n",
       "        vertical-align: top;\n",
       "    }\n",
       "\n",
       "    .dataframe thead th {\n",
       "        text-align: right;\n",
       "    }\n",
       "</style>\n",
       "<table border=\"1\" class=\"dataframe\">\n",
       "  <thead>\n",
       "    <tr style=\"text-align: right;\">\n",
       "      <th></th>\n",
       "      <th>x</th>\n",
       "      <th>y</th>\n",
       "      <th>xy</th>\n",
       "      <th>x^2</th>\n",
       "      <th>(x-x_avg)^2</th>\n",
       "      <th>(y-y_avg)^2</th>\n",
       "      <th>Y</th>\n",
       "      <th>x*Y</th>\n",
       "      <th>regression</th>\n",
       "      <th>y-reg</th>\n",
       "      <th>(y-reg)^2</th>\n",
       "      <th>appr</th>\n",
       "    </tr>\n",
       "  </thead>\n",
       "  <tbody>\n",
       "    <tr>\n",
       "      <th>0</th>\n",
       "      <td>79.0</td>\n",
       "      <td>154.0</td>\n",
       "      <td>12166.0</td>\n",
       "      <td>6241.0</td>\n",
       "      <td>148.84</td>\n",
       "      <td>43.56</td>\n",
       "      <td>2.19</td>\n",
       "      <td>172.81</td>\n",
       "      <td>149.64</td>\n",
       "      <td>4.36</td>\n",
       "      <td>18.97</td>\n",
       "      <td>2.83</td>\n",
       "    </tr>\n",
       "    <tr>\n",
       "      <th>1</th>\n",
       "      <td>106.0</td>\n",
       "      <td>157.0</td>\n",
       "      <td>16642.0</td>\n",
       "      <td>11236.0</td>\n",
       "      <td>219.04</td>\n",
       "      <td>12.96</td>\n",
       "      <td>2.20</td>\n",
       "      <td>232.77</td>\n",
       "      <td>172.54</td>\n",
       "      <td>-15.54</td>\n",
       "      <td>241.49</td>\n",
       "      <td>9.90</td>\n",
       "    </tr>\n",
       "    <tr>\n",
       "      <th>2</th>\n",
       "      <td>106.0</td>\n",
       "      <td>195.0</td>\n",
       "      <td>20670.0</td>\n",
       "      <td>11236.0</td>\n",
       "      <td>219.04</td>\n",
       "      <td>1183.36</td>\n",
       "      <td>2.29</td>\n",
       "      <td>242.74</td>\n",
       "      <td>172.54</td>\n",
       "      <td>22.46</td>\n",
       "      <td>504.45</td>\n",
       "      <td>11.52</td>\n",
       "    </tr>\n",
       "    <tr>\n",
       "      <th>3</th>\n",
       "      <td>67.0</td>\n",
       "      <td>139.0</td>\n",
       "      <td>9313.0</td>\n",
       "      <td>4489.0</td>\n",
       "      <td>585.64</td>\n",
       "      <td>466.56</td>\n",
       "      <td>2.14</td>\n",
       "      <td>143.58</td>\n",
       "      <td>140.47</td>\n",
       "      <td>-1.47</td>\n",
       "      <td>2.16</td>\n",
       "      <td>1.06</td>\n",
       "    </tr>\n",
       "    <tr>\n",
       "      <th>4</th>\n",
       "      <td>98.0</td>\n",
       "      <td>158.0</td>\n",
       "      <td>15484.0</td>\n",
       "      <td>9604.0</td>\n",
       "      <td>46.24</td>\n",
       "      <td>6.76</td>\n",
       "      <td>2.20</td>\n",
       "      <td>215.47</td>\n",
       "      <td>165.41</td>\n",
       "      <td>-7.41</td>\n",
       "      <td>54.95</td>\n",
       "      <td>4.69</td>\n",
       "    </tr>\n",
       "    <tr>\n",
       "      <th>Sum</th>\n",
       "      <td>456.0</td>\n",
       "      <td>803.0</td>\n",
       "      <td>74275.0</td>\n",
       "      <td>42806.0</td>\n",
       "      <td>1218.80</td>\n",
       "      <td>1713.20</td>\n",
       "      <td>11.02</td>\n",
       "      <td>1007.37</td>\n",
       "      <td>800.60</td>\n",
       "      <td>2.40</td>\n",
       "      <td>822.02</td>\n",
       "      <td>30.00</td>\n",
       "    </tr>\n",
       "    <tr>\n",
       "      <th>Mean</th>\n",
       "      <td>91.2</td>\n",
       "      <td>160.6</td>\n",
       "      <td>14855.0</td>\n",
       "      <td>8561.2</td>\n",
       "      <td>243.76</td>\n",
       "      <td>342.64</td>\n",
       "      <td>2.20</td>\n",
       "      <td>201.47</td>\n",
       "      <td>160.12</td>\n",
       "      <td>0.48</td>\n",
       "      <td>164.40</td>\n",
       "      <td>6.00</td>\n",
       "    </tr>\n",
       "  </tbody>\n",
       "</table>\n",
       "</div>"
      ],
      "text/plain": [
       "          x      y       xy      x^2  (x-x_avg)^2  (y-y_avg)^2      Y  \\\n",
       "0      79.0  154.0  12166.0   6241.0       148.84        43.56   2.19   \n",
       "1     106.0  157.0  16642.0  11236.0       219.04        12.96   2.20   \n",
       "2     106.0  195.0  20670.0  11236.0       219.04      1183.36   2.29   \n",
       "3      67.0  139.0   9313.0   4489.0       585.64       466.56   2.14   \n",
       "4      98.0  158.0  15484.0   9604.0        46.24         6.76   2.20   \n",
       "Sum   456.0  803.0  74275.0  42806.0      1218.80      1713.20  11.02   \n",
       "Mean   91.2  160.6  14855.0   8561.2       243.76       342.64   2.20   \n",
       "\n",
       "          x*Y  regression  y-reg  (y-reg)^2   appr  \n",
       "0      172.81      149.64   4.36      18.97   2.83  \n",
       "1      232.77      172.54 -15.54     241.49   9.90  \n",
       "2      242.74      172.54  22.46     504.45  11.52  \n",
       "3      143.58      140.47  -1.47       2.16   1.06  \n",
       "4      215.47      165.41  -7.41      54.95   4.69  \n",
       "Sum   1007.37      800.60   2.40     822.02  30.00  \n",
       "Mean   201.47      160.12   0.48     164.40   6.00  "
      ]
     },
     "execution_count": 3,
     "metadata": {},
     "output_type": "execute_result"
    }
   ],
   "source": [
    "df"
   ]
  },
  {
   "cell_type": "code",
   "execution_count": 4,
   "id": "c4c0f0f1",
   "metadata": {},
   "outputs": [
    {
     "name": "stdout",
     "output_type": "stream",
     "text": [
      "0.7212\n",
      "0.5201\n",
      "0.48089029150162654\n",
      "0.8479147495355821\n"
     ]
    }
   ],
   "source": [
    "# 1-я группа \n",
    "print(corr_ind)\n",
    "print(R)\n",
    "print(elast)\n",
    "print(beta)"
   ]
  },
  {
   "cell_type": "code",
   "execution_count": 5,
   "id": "4b5c8ada",
   "metadata": {},
   "outputs": [
    {
     "name": "stdout",
     "output_type": "stream",
     "text": [
      "3.25\n",
      "274.00666666666666\n"
     ]
    }
   ],
   "source": [
    "# 2-я группа\n",
    "print(F)\n",
    "print(S_rem)"
   ]
  },
  {
   "cell_type": "code",
   "execution_count": 6,
   "id": "2f346dfa",
   "metadata": {},
   "outputs": [
    {
     "name": "stdout",
     "output_type": "stream",
     "text": [
      "43.87141715003556\n",
      "2.2488901979752898\n",
      "\n",
      "0.47414845739947825\n",
      "2.120194277727245\n",
      "\n",
      "0.39995833116296836\n",
      "1.8031878418507987\n"
     ]
    }
   ],
   "source": [
    "# 3-я группа (стандартные ошибки)\n",
    "print(ma)\n",
    "print(ta)\n",
    "print()\n",
    "print(mb)\n",
    "print(tb)\n",
    "print()\n",
    "print(mrxy)\n",
    "print(trxy)"
   ]
  },
  {
   "cell_type": "code",
   "execution_count": 7,
   "id": "ff14be86",
   "metadata": {},
   "outputs": [
    {
     "name": "stdout",
     "output_type": "stream",
     "text": [
      "(-40.95878507998816, 238.28278507998817)\n",
      "(-0.5036906195022655, 2.5142643118454133)\n"
     ]
    }
   ],
   "source": [
    "# 4-я группа (доверительные интервалы)\n",
    "print(trust_int_a)\n",
    "print(trust_int_b)"
   ]
  },
  {
   "cell_type": "code",
   "execution_count": 8,
   "id": "a77c26a0",
   "metadata": {},
   "outputs": [
    {
     "name": "stdout",
     "output_type": "stream",
     "text": [
      "112.5408\n",
      "178.59460966735725\n",
      "20.76526521478\n",
      "(112.5091531213199, 244.68006621339458)\n"
     ]
    }
   ],
   "source": [
    "# 5-я группа (прогноз)\n",
    "print(x_forecast)\n",
    "print(reg_forecast)\n",
    "print(mreg_forecast)\n",
    "print(trust_int_reg_forecast)"
   ]
  },
  {
   "cell_type": "code",
   "execution_count": 9,
   "id": "971ae2dd",
   "metadata": {},
   "outputs": [
    {
     "data": {
      "image/png": "[encoded data removed]",
      "text/plain": [
       "<Figure size 640x480 with 1 Axes>"
      ]
     },
     "metadata": {},
     "output_type": "display_data"
    }
   ],
   "source": [
    "sorted_indexes = np.argsort(x)\n",
    "x_sorted = x[sorted_indexes]\n",
    "reg_sorted = reg[sorted_indexes]\n",
    "plt.plot(x_sorted, reg_sorted)\n",
    "plt.scatter(x, y, color='red')\n",
    "plt.show()"
   ]
  },
  {
   "cell_type": "code",
   "execution_count": null,
   "id": "1339cb5a",
   "metadata": {},
   "outputs": [],
   "source": []
  }
 ],
 "metadata": {
  "kernelspec": {
   "display_name": "Python 3 (ipykernel)",
   "language": "python",
   "name": "python3"
  },
  "language_info": {
   "codemirror_mode": {
    "name": "ipython",
    "version": 3
   },
   "file_extension": ".py",
   "mimetype": "text/x-python",
   "name": "python",
   "nbconvert_exporter": "python",
   "pygments_lexer": "ipython3",
   "version": "3.11.4"
  }
 },
 "nbformat": 4,
 "nbformat_minor": 5
}
