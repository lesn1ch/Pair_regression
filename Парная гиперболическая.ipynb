{
 "cells": [
  {
   "cell_type": "code",
   "execution_count": 5,
   "id": "b9aff6a2",
   "metadata": {},
   "outputs": [],
   "source": [
    "student_table = {\n",
    "    '1':12.706,\n",
    "    '2':4.3027,\n",
    "    '3':3.1825,\n",
    "    '4':2.7764,\n",
    "    '5':2.5706,\n",
    "    '6':2.4469,\n",
    "    '7':2.3646,\n",
    "    '8':2.3060,\n",
    "    '9':2.2622,\n",
    "    '10':2.2281,\n",
    "    '11':2.2010,\n",
    "    '12':2.1788,\n",
    "    '13':2.1604,\n",
    "    '14':2.1448,\n",
    "    '15':2.1315\n",
    "}"
   ]
  },
  {
   "cell_type": "code",
   "execution_count": 7,
   "id": "ec3e2b66",
   "metadata": {},
   "outputs": [],
   "source": [
    "import numpy as np\n",
    "import pandas as pd\n",
    "import matplotlib.pyplot as plt\n",
    "\n",
    "x = np.array([78, 80, 87, 79, 106])\n",
    "y = np.array([113,148, 135, 154, 157])\n",
    "y_avg = np.average(y)\n",
    "x_avg = np.average(x)\n",
    "z = 1/x\n",
    "z_avg = np.average(z)\n",
    "b = np.cov(z,y)[0, 1]/np.cov(z,z)[0, 1]\n",
    "a = y_avg - b*z_avg\n",
    "reg = a + b/x\n",
    "A = np.abs((y-reg)/y) * 100\n",
    "\n",
    "data = {\n",
    "    'x':x,\n",
    "    'y':y,\n",
    "    'z': z,\n",
    "    'xy':x*y,\n",
    "    'x^2':x**2,\n",
    "    '(x-x_avg)^2': (x-x_avg)**2,\n",
    "    '(y-y_avg)^2':  (y-y_avg)**2,\n",
    "    '(z-z_avg)^2': (z-z_avg)**2,\n",
    "    'regression' : reg,\n",
    "    'y-reg': y - reg,\n",
    "    '(y-reg)^2': (y - reg) ** 2,\n",
    "    'appr': A    \n",
    "}\n",
    "df = pd.DataFrame(data)\n",
    "sum_row = df.sum()\n",
    "mean_row = df.mean()\n",
    "\n",
    "# Создаем DataFrame из новых строк\n",
    "sum_df = pd.DataFrame(sum_row).T\n",
    "mean_df = pd.DataFrame(mean_row).T\n",
    "\n",
    "# Устанавливаем индексы для строк с суммой и средним\n",
    "sum_df.index = ['Sum']\n",
    "mean_df.index = ['Mean']\n",
    "\n",
    "# Присоединяем строки к исходному DataFrame\n",
    "df = pd.concat([df, sum_df, mean_df])\n",
    "\n",
    "# Индекс корреляции (ро xy)\n",
    "corr_ind = np.sqrt(1 - (df.loc['Sum', '(y-reg)^2']/ \n",
    "                                  df.loc['Sum', '(y-y_avg)^2']))\n",
    "\n",
    "# Коэфициент эластичности\n",
    "elast = -b/(a*x_avg  + b)\n",
    "\n",
    "# beta-коэфициент\n",
    "# beta = b * (sigma_z / sigma_y)\n",
    "n = len(x)\n",
    "sigma_x = np.sqrt(df.loc['Sum', '(x-x_avg)^2'] / n)\n",
    "sigma_y = np.sqrt(df.loc['Sum', '(y-y_avg)^2'] / n)\n",
    "sigma_z = np.sqrt(df.loc['Sum', '(z-z_avg)^2'] / n)\n",
    "beta = b * (sigma_x/sigma_y)\n",
    "\n",
    "# Детерминация \n",
    "R = np.round(corr_ind**2, 4)\n",
    "\n",
    "# F-критерий Фишера\n",
    "m = 1 # число степеней свободы\n",
    "F = np.round((R / (1-R)) * ((n- m - 1) / m), 2)\n",
    "\n",
    "# Остаточная диспресия\n",
    "S_rem = df.loc['Sum', '(y-reg)^2'] / (n - 2)\n",
    "\n",
    "# Стандартные ошибки\n",
    "ma = np.sqrt(S_rem) * (np.sqrt(df.loc['Sum', 'x^2']) / (sigma_x * n))\n",
    "ta = a / ma\n",
    "\n",
    "mb = np.sqrt(S_rem) / (sigma_z * np.sqrt(n))\n",
    "tb = b / mb\n",
    "\n",
    "mrxy = np.sqrt((1 - R) / (n - 2))\n",
    "trxy = corr_ind / mrxy\n",
    "\n",
    "# Доверительный интервал по a и b\n",
    "# число степеней свободы = n - (кол-во x) - 1 \n",
    "t_tab = student_table[str(n-1-1)]\n",
    "da = ma * t_tab\n",
    "db = mb * t_tab\n",
    "trust_int_a = (a - da, a + da)\n",
    "trust_int_b = (b - db, b + db)\n",
    "\n",
    "# Прогноз\n",
    "forecast = 1.2\n",
    "x_forecast = x_avg * forecast\n",
    "reg_forecast = a + b / x_forecast\n",
    "mreg_forecast = np.sqrt(S_rem * (1 + (1/n) + (((x_forecast - x_avg)**2)/df.loc['Sum', '(x-x_avg)^2'])))\n",
    "dreg_forecast = mreg_forecast * t_tab\n",
    "trust_int_reg_forecast = (reg_forecast - dreg_forecast, reg_forecast + dreg_forecast)\n"
   ]
  },
  {
   "cell_type": "code",
   "execution_count": 8,
   "id": "b3875fd7",
   "metadata": {
    "scrolled": true
   },
   "outputs": [
    {
     "data": {
      "text/html": [
       "<div>\n",
       "<style scoped>\n",
       "    .dataframe tbody tr th:only-of-type {\n",
       "        vertical-align: middle;\n",
       "    }\n",
       "\n",
       "    .dataframe tbody tr th {\n",
       "        vertical-align: top;\n",
       "    }\n",
       "\n",
       "    .dataframe thead th {\n",
       "        text-align: right;\n",
       "    }\n",
       "</style>\n",
       "<table border=\"1\" class=\"dataframe\">\n",
       "  <thead>\n",
       "    <tr style=\"text-align: right;\">\n",
       "      <th></th>\n",
       "      <th>x</th>\n",
       "      <th>y</th>\n",
       "      <th>z</th>\n",
       "      <th>xy</th>\n",
       "      <th>x^2</th>\n",
       "      <th>(x-x_avg)^2</th>\n",
       "      <th>(y-y_avg)^2</th>\n",
       "      <th>(z-z_avg)^2</th>\n",
       "      <th>regression</th>\n",
       "      <th>y-reg</th>\n",
       "      <th>(y-reg)^2</th>\n",
       "      <th>appr</th>\n",
       "    </tr>\n",
       "  </thead>\n",
       "  <tbody>\n",
       "    <tr>\n",
       "      <th>0</th>\n",
       "      <td>78.0</td>\n",
       "      <td>113.0</td>\n",
       "      <td>0.012821</td>\n",
       "      <td>8814.0</td>\n",
       "      <td>6084.0</td>\n",
       "      <td>64.0</td>\n",
       "      <td>806.56</td>\n",
       "      <td>1.079774e-06</td>\n",
       "      <td>135.066686</td>\n",
       "      <td>-2.206669e+01</td>\n",
       "      <td>486.938627</td>\n",
       "      <td>19.528041</td>\n",
       "    </tr>\n",
       "    <tr>\n",
       "      <th>1</th>\n",
       "      <td>80.0</td>\n",
       "      <td>148.0</td>\n",
       "      <td>0.012500</td>\n",
       "      <td>11840.0</td>\n",
       "      <td>6400.0</td>\n",
       "      <td>36.0</td>\n",
       "      <td>43.56</td>\n",
       "      <td>5.163987e-07</td>\n",
       "      <td>137.020171</td>\n",
       "      <td>1.097983e+01</td>\n",
       "      <td>120.556651</td>\n",
       "      <td>7.418804</td>\n",
       "    </tr>\n",
       "    <tr>\n",
       "      <th>2</th>\n",
       "      <td>87.0</td>\n",
       "      <td>135.0</td>\n",
       "      <td>0.011494</td>\n",
       "      <td>11745.0</td>\n",
       "      <td>7569.0</td>\n",
       "      <td>1.0</td>\n",
       "      <td>40.96</td>\n",
       "      <td>8.244840e-08</td>\n",
       "      <td>143.150071</td>\n",
       "      <td>-8.150071e+00</td>\n",
       "      <td>66.423662</td>\n",
       "      <td>6.037090</td>\n",
       "    </tr>\n",
       "    <tr>\n",
       "      <th>3</th>\n",
       "      <td>79.0</td>\n",
       "      <td>154.0</td>\n",
       "      <td>0.012658</td>\n",
       "      <td>12166.0</td>\n",
       "      <td>6241.0</td>\n",
       "      <td>49.0</td>\n",
       "      <td>158.76</td>\n",
       "      <td>7.688426e-07</td>\n",
       "      <td>136.055792</td>\n",
       "      <td>1.794421e+01</td>\n",
       "      <td>321.994596</td>\n",
       "      <td>11.652083</td>\n",
       "    </tr>\n",
       "    <tr>\n",
       "      <th>4</th>\n",
       "      <td>106.0</td>\n",
       "      <td>157.0</td>\n",
       "      <td>0.009434</td>\n",
       "      <td>16642.0</td>\n",
       "      <td>11236.0</td>\n",
       "      <td>400.0</td>\n",
       "      <td>243.36</td>\n",
       "      <td>5.510422e-06</td>\n",
       "      <td>155.707280</td>\n",
       "      <td>1.292720e+00</td>\n",
       "      <td>1.671125</td>\n",
       "      <td>0.823389</td>\n",
       "    </tr>\n",
       "    <tr>\n",
       "      <th>Sum</th>\n",
       "      <td>430.0</td>\n",
       "      <td>707.0</td>\n",
       "      <td>0.058907</td>\n",
       "      <td>61207.0</td>\n",
       "      <td>37530.0</td>\n",
       "      <td>550.0</td>\n",
       "      <td>1293.20</td>\n",
       "      <td>7.957886e-06</td>\n",
       "      <td>707.000000</td>\n",
       "      <td>-2.842171e-14</td>\n",
       "      <td>997.584661</td>\n",
       "      <td>45.459406</td>\n",
       "    </tr>\n",
       "    <tr>\n",
       "      <th>Mean</th>\n",
       "      <td>86.0</td>\n",
       "      <td>141.4</td>\n",
       "      <td>0.011781</td>\n",
       "      <td>12241.4</td>\n",
       "      <td>7506.0</td>\n",
       "      <td>110.0</td>\n",
       "      <td>258.64</td>\n",
       "      <td>1.591577e-06</td>\n",
       "      <td>141.400000</td>\n",
       "      <td>-5.684342e-15</td>\n",
       "      <td>199.516932</td>\n",
       "      <td>9.091881</td>\n",
       "    </tr>\n",
       "  </tbody>\n",
       "</table>\n",
       "</div>"
      ],
      "text/plain": [
       "          x      y         z       xy      x^2  (x-x_avg)^2  (y-y_avg)^2  \\\n",
       "0      78.0  113.0  0.012821   8814.0   6084.0         64.0       806.56   \n",
       "1      80.0  148.0  0.012500  11840.0   6400.0         36.0        43.56   \n",
       "2      87.0  135.0  0.011494  11745.0   7569.0          1.0        40.96   \n",
       "3      79.0  154.0  0.012658  12166.0   6241.0         49.0       158.76   \n",
       "4     106.0  157.0  0.009434  16642.0  11236.0        400.0       243.36   \n",
       "Sum   430.0  707.0  0.058907  61207.0  37530.0        550.0      1293.20   \n",
       "Mean   86.0  141.4  0.011781  12241.4   7506.0        110.0       258.64   \n",
       "\n",
       "       (z-z_avg)^2  regression         y-reg   (y-reg)^2       appr  \n",
       "0     1.079774e-06  135.066686 -2.206669e+01  486.938627  19.528041  \n",
       "1     5.163987e-07  137.020171  1.097983e+01  120.556651   7.418804  \n",
       "2     8.244840e-08  143.150071 -8.150071e+00   66.423662   6.037090  \n",
       "3     7.688426e-07  136.055792  1.794421e+01  321.994596  11.652083  \n",
       "4     5.510422e-06  155.707280  1.292720e+00    1.671125   0.823389  \n",
       "Sum   7.957886e-06  707.000000 -2.842171e-14  997.584661  45.459406  \n",
       "Mean  1.591577e-06  141.400000 -5.684342e-15  199.516932   9.091881  "
      ]
     },
     "execution_count": 8,
     "metadata": {},
     "output_type": "execute_result"
    }
   ],
   "source": [
    "df"
   ]
  },
  {
   "cell_type": "code",
   "execution_count": 9,
   "id": "118b88e8",
   "metadata": {},
   "outputs": [
    {
     "name": "stdout",
     "output_type": "stream",
     "text": [
      "0.4781130904340956\n",
      "0.2286\n",
      "0.4979125220506654\n",
      "-3974.7802732815917\n"
     ]
    }
   ],
   "source": [
    "# 1-я группа \n",
    "print(corr_ind)\n",
    "print(R)\n",
    "print(elast)\n",
    "print(beta)"
   ]
  },
  {
   "cell_type": "code",
   "execution_count": 10,
   "id": "d469e7d4",
   "metadata": {},
   "outputs": [
    {
     "name": "stdout",
     "output_type": "stream",
     "text": [
      "0.89\n",
      "332.5282203491627\n"
     ]
    }
   ],
   "source": [
    "# 2-я группа\n",
    "print(F)\n",
    "print(S_rem)"
   ]
  },
  {
   "cell_type": "code",
   "execution_count": 11,
   "id": "8e6a2a5e",
   "metadata": {},
   "outputs": [
    {
     "name": "stdout",
     "output_type": "stream",
     "text": [
      "67.3654459839736\n",
      "3.1649174818658614\n",
      "6464.209162616844\n",
      "-0.9428643788218022\n",
      "0.507083162147328\n",
      "0.9428691901530436\n"
     ]
    }
   ],
   "source": [
    "# 3-я группа (стандартные ошибки)\n",
    "print(ma)\n",
    "print(ta)\n",
    "\n",
    "print(mb)\n",
    "print(tb)\n",
    "\n",
    "print(mrxy)\n",
    "print(trxy)"
   ]
  },
  {
   "cell_type": "code",
   "execution_count": 12,
   "id": "f18031ef",
   "metadata": {},
   "outputs": [
    {
     "name": "stdout",
     "output_type": "stream",
     "text": [
      "(-1.1844541756275646, 427.59660951236447)\n",
      "(-26667.218216713038, 14477.473103343174)\n"
     ]
    }
   ],
   "source": [
    "# 4-я группа (доверительные интервалы)\n",
    "print(trust_int_a)\n",
    "print(trust_int_b)"
   ]
  },
  {
   "cell_type": "code",
   "execution_count": 13,
   "id": "cc6b2bc8",
   "metadata": {},
   "outputs": [
    {
     "name": "stdout",
     "output_type": "stream",
     "text": [
      "103.2\n",
      "154.14723506483227\n",
      "24.039504386758654\n",
      "76.50572271085942\n",
      "(77.64151235397286, 230.65295777569168)\n"
     ]
    }
   ],
   "source": [
    "# 5-я группа (прогноз)\n",
    "print(x_forecast)\n",
    "print(reg_forecast)\n",
    "print(mreg_forecast)\n",
    "print(dreg_forecast)\n",
    "print(trust_int_reg_forecast)"
   ]
  },
  {
   "cell_type": "code",
   "execution_count": 14,
   "id": "1f642105",
   "metadata": {},
   "outputs": [
    {
     "data": {
      "image/png": "[encoded data removed]",
      "text/plain": [
       "<Figure size 640x480 with 1 Axes>"
      ]
     },
     "metadata": {},
     "output_type": "display_data"
    }
   ],
   "source": [
    "sorted_indexes = np.argsort(x)\n",
    "x_sorted = x[sorted_indexes]\n",
    "reg_sorted = reg[sorted_indexes]\n",
    "plt.plot(x_sorted, reg_sorted)\n",
    "plt.scatter(x,y, color='red')\n",
    "plt.show()"
   ]
  },
  {
   "cell_type": "code",
   "execution_count": null,
   "id": "cd8c1356",
   "metadata": {},
   "outputs": [],
   "source": []
  }
 ],
 "metadata": {
  "kernelspec": {
   "display_name": "Python 3 (ipykernel)",
   "language": "python",
   "name": "python3"
  },
  "language_info": {
   "codemirror_mode": {
    "name": "ipython",
    "version": 3
   },
   "file_extension": ".py",
   "mimetype": "text/x-python",
   "name": "python",
   "nbconvert_exporter": "python",
   "pygments_lexer": "ipython3",
   "version": "3.11.4"
  }
 },
 "nbformat": 4,
 "nbformat_minor": 5
}
